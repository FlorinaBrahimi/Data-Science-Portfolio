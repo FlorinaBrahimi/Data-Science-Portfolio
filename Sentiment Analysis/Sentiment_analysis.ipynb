{
  "nbformat": 4,
  "nbformat_minor": 0,
  "metadata": {
    "colab": {
      "provenance": []
    },
    "kernelspec": {
      "name": "python3",
      "display_name": "Python 3"
    },
    "language_info": {
      "name": "python"
    }
  },
  "cells": [
    {
      "cell_type": "markdown",
      "source": [
        "**Sentiment Analysis Implementation**"
      ],
      "metadata": {
        "id": "XK1SHUnGBf1u"
      }
    },
    {
      "cell_type": "code",
      "source": [
        "!pip install flask vaderSentiment"
      ],
      "metadata": {
        "colab": {
          "base_uri": "https://localhost:8080/"
        },
        "id": "SKob4KJpAmxF",
        "outputId": "748b2f3c-0287-46a3-85a4-c2c4eb2a0b09"
      },
      "execution_count": null,
      "outputs": [
        {
          "output_type": "stream",
          "name": "stdout",
          "text": [
            "Requirement already satisfied: flask in /usr/local/lib/python3.10/dist-packages (2.2.5)\n",
            "Collecting vaderSentiment\n",
            "  Downloading vaderSentiment-3.3.2-py2.py3-none-any.whl.metadata (572 bytes)\n",
            "Requirement already satisfied: Werkzeug>=2.2.2 in /usr/local/lib/python3.10/dist-packages (from flask) (3.0.4)\n",
            "Requirement already satisfied: Jinja2>=3.0 in /usr/local/lib/python3.10/dist-packages (from flask) (3.1.4)\n",
            "Requirement already satisfied: itsdangerous>=2.0 in /usr/local/lib/python3.10/dist-packages (from flask) (2.2.0)\n",
            "Requirement already satisfied: click>=8.0 in /usr/local/lib/python3.10/dist-packages (from flask) (8.1.7)\n",
            "Requirement already satisfied: requests in /usr/local/lib/python3.10/dist-packages (from vaderSentiment) (2.32.3)\n",
            "Requirement already satisfied: MarkupSafe>=2.0 in /usr/local/lib/python3.10/dist-packages (from Jinja2>=3.0->flask) (2.1.5)\n",
            "Requirement already satisfied: charset-normalizer<4,>=2 in /usr/local/lib/python3.10/dist-packages (from requests->vaderSentiment) (3.3.2)\n",
            "Requirement already satisfied: idna<4,>=2.5 in /usr/local/lib/python3.10/dist-packages (from requests->vaderSentiment) (3.8)\n",
            "Requirement already satisfied: urllib3<3,>=1.21.1 in /usr/local/lib/python3.10/dist-packages (from requests->vaderSentiment) (2.0.7)\n",
            "Requirement already satisfied: certifi>=2017.4.17 in /usr/local/lib/python3.10/dist-packages (from requests->vaderSentiment) (2024.7.4)\n",
            "Downloading vaderSentiment-3.3.2-py2.py3-none-any.whl (125 kB)\n",
            "\u001b[2K   \u001b[90m━━━━━━━━━━━━━━━━━━━━━━━━━━━━━━━━━━━━━━━━\u001b[0m \u001b[32m126.0/126.0 kB\u001b[0m \u001b[31m2.2 MB/s\u001b[0m eta \u001b[36m0:00:00\u001b[0m\n",
            "\u001b[?25hInstalling collected packages: vaderSentiment\n",
            "Successfully installed vaderSentiment-3.3.2\n"
          ]
        }
      ]
    },
    {
      "cell_type": "code",
      "source": [
        "# Sentiment Analysis Script using Vader\n",
        "\n",
        "from vaderSentiment.vaderSentiment import SentimentIntensityAnalyzer\n",
        "\n",
        "def analyze_sentiment(text):\n",
        "    # Analyze sentiment using VADER\n",
        "    analyzer = SentimentIntensityAnalyzer()\n",
        "    sentiment_scores = analyzer.polarity_scores(text)\n",
        "    sentiment_score = sentiment_scores['compound']\n",
        "\n",
        "    # Determine the sentiment label\n",
        "    if sentiment_score >= 0.05:\n",
        "        sentiment_label = 'Positive'\n",
        "    elif sentiment_score <= -0.05:\n",
        "        sentiment_label = 'Negative'\n",
        "    else:\n",
        "        sentiment_label = 'Neutral'\n",
        "\n",
        "    # Create response\n",
        "    response = {\n",
        "        'text': text,\n",
        "        'sentiment_score': sentiment_score,\n",
        "        'sentiment_label': sentiment_label\n",
        "    }\n",
        "\n",
        "    return response\n",
        "\n",
        "if __name__ == '__main__':\n",
        "    user_input = input(\"Enter a sentence to analyze sentiment: \")\n",
        "    result = analyze_sentiment(user_input)\n",
        "    print(\"Sentiment Analysis Result:\")\n",
        "    print(f\"Text: {result['text']}\")\n",
        "    print(f\"Sentiment Score: {result['sentiment_score']}\")\n",
        "    print(f\"Sentiment Label: {result['sentiment_label']}\")\n"
      ],
      "metadata": {
        "colab": {
          "base_uri": "https://localhost:8080/"
        },
        "id": "QSYaKEBrAt91",
        "outputId": "23158cef-2f56-4e2b-ab7c-0f59645b9e25"
      },
      "execution_count": null,
      "outputs": [
        {
          "output_type": "stream",
          "name": "stdout",
          "text": [
            "Enter a sentence to analyze sentiment: weather is so pleasant today\n",
            "Sentiment Analysis Result:\n",
            "Text: weather is so pleasant today\n",
            "Sentiment Score: 0.6418\n",
            "Sentiment Label: Positive\n"
          ]
        }
      ]
    },
    {
      "cell_type": "markdown",
      "source": [
        "**Overview:**\n",
        "\n",
        "This script performs sentiment analysis on a given text input using a pre-built library, either TextBlob or VADER. Sentiment analysis is the process of determining whether a piece of text is positive, negative, or neutral.\n",
        "\n",
        "**How It Works:**\n",
        "\n",
        "Input:\n",
        "The script prompts the user to enter a sentence or any text they wish to analyze.\n",
        "\n",
        "\n",
        "---\n",
        "\n",
        "\n",
        "Sentiment Analysis:\n",
        "The script uses VADER's SentimentIntensityAnalyzer to compute a compound sentiment score, which ranges from -1 (negative) to 1 (positive).\n",
        "\n",
        "\n",
        "---\n",
        "\n",
        "\n",
        "Output:\n",
        "The script categorizes the sentiment as \"Positive\", \"Negative\", or \"Neutral\" based on the sentiment score.\n",
        "It then displays the original text, the sentiment score, and the sentiment label.\n",
        "\n",
        "\n",
        "\n",
        "---\n",
        "\n",
        "\n",
        "**What is Compound Sentiment Score?**\n",
        "\n",
        "The compound sentiment score is a metric used by the VADER (Valence Aware Dictionary and sEntiment Reasoner) sentiment analysis tool to quantify the overall sentiment expressed in a piece of text. It is a normalized score that ranges from -1 to 1, where:\n",
        "\n",
        "-1: indicates the most extreme negative sentiment.\n",
        "\n",
        "1: indicates the most extreme positive sentiment.\n",
        "\n",
        "0: indicates a neutral sentiment.\n",
        "\n",
        "\n",
        "The compound score is calculated as the sum of the valence scores of each word in the text, normalized to be within the range of -1 to 1. This score takes into account the intensity of sentiment in each word, as well as how these sentiments combine to create an overall emotional tone for the entire text."
      ],
      "metadata": {
        "id": "M6dLlRs-B0mp"
      }
    }
  ]
}